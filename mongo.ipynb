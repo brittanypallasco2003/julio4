{
 "cells": [
  {
   "cell_type": "code",
   "execution_count": 1,
   "metadata": {},
   "outputs": [
    {
     "name": "stdout",
     "output_type": "stream",
     "text": [
      "Collecting pymongoNote: you may need to restart the kernel to use updated packages.\n",
      "\n",
      "  Downloading pymongo-4.4.0-cp311-cp311-win_amd64.whl (453 kB)\n",
      "                                              0.0/453.6 kB ? eta -:--:--\n",
      "                                              0.0/453.6 kB ? eta -:--:--\n",
      "                                              10.2/453.6 kB ? eta -:--:--\n",
      "     --                                    30.7/453.6 kB 262.6 kB/s eta 0:00:02\n",
      "     ---                                   41.0/453.6 kB 245.8 kB/s eta 0:00:02\n",
      "     -----                                 61.4/453.6 kB 272.3 kB/s eta 0:00:02\n",
      "     -----                                 61.4/453.6 kB 272.3 kB/s eta 0:00:02\n",
      "     ------                                81.9/453.6 kB 286.7 kB/s eta 0:00:02\n",
      "     -------                               92.2/453.6 kB 275.8 kB/s eta 0:00:02\n",
      "     --------                             112.6/453.6 kB 297.7 kB/s eta 0:00:02\n",
      "     ---------                            122.9/453.6 kB 277.4 kB/s eta 0:00:02\n",
      "     ---------                            122.9/453.6 kB 277.4 kB/s eta 0:00:02\n",
      "     ---------                            122.9/453.6 kB 277.4 kB/s eta 0:00:02\n",
      "     -------------                        174.1/453.6 kB 299.5 kB/s eta 0:00:01\n",
      "     -------------                        174.1/453.6 kB 299.5 kB/s eta 0:00:01\n",
      "     ---------------                      194.6/453.6 kB 294.9 kB/s eta 0:00:01\n",
      "     ---------------                      194.6/453.6 kB 294.9 kB/s eta 0:00:01\n",
      "     ----------------                     204.8/453.6 kB 276.8 kB/s eta 0:00:01\n",
      "     -----------------                    225.3/453.6 kB 286.7 kB/s eta 0:00:01\n",
      "     -------------------                  245.8/453.6 kB 284.4 kB/s eta 0:00:01\n",
      "     -------------------                  245.8/453.6 kB 284.4 kB/s eta 0:00:01\n",
      "     -------------------                  245.8/453.6 kB 284.4 kB/s eta 0:00:01\n",
      "     ---------------------                266.2/453.6 kB 268.6 kB/s eta 0:00:01\n",
      "     ---------------------                266.2/453.6 kB 268.6 kB/s eta 0:00:01\n",
      "     ----------------------               286.7/453.6 kB 272.1 kB/s eta 0:00:01\n",
      "     -----------------------              297.0/453.6 kB 266.0 kB/s eta 0:00:01\n",
      "     -------------------------            317.4/453.6 kB 273.1 kB/s eta 0:00:01\n",
      "     --------------------------           327.7/453.6 kB 263.9 kB/s eta 0:00:01\n",
      "     ---------------------------          348.2/453.6 kB 273.6 kB/s eta 0:00:01\n",
      "     -----------------------------        368.6/453.6 kB 276.3 kB/s eta 0:00:01\n",
      "     ------------------------------       378.9/453.6 kB 274.3 kB/s eta 0:00:01\n",
      "     -------------------------------      399.4/453.6 kB 279.7 kB/s eta 0:00:01\n",
      "     --------------------------------     409.6/453.6 kB 277.7 kB/s eta 0:00:01\n",
      "     --------------------------------     409.6/453.6 kB 277.7 kB/s eta 0:00:01\n",
      "     ----------------------------------   430.1/453.6 kB 276.9 kB/s eta 0:00:01\n",
      "     -----------------------------------  450.6/453.6 kB 279.0 kB/s eta 0:00:01\n",
      "     ------------------------------------ 453.6/453.6 kB 278.1 kB/s eta 0:00:00\n",
      "Collecting dnspython<3.0.0,>=1.16.0 (from pymongo)\n",
      "  Downloading dnspython-2.3.0-py3-none-any.whl (283 kB)\n",
      "                                              0.0/283.7 kB ? eta -:--:--\n",
      "     -                                        10.2/283.7 kB ? eta -:--:--\n",
      "     ----                                  30.7/283.7 kB 435.7 kB/s eta 0:00:01\n",
      "     -----                                 41.0/283.7 kB 279.3 kB/s eta 0:00:01\n",
      "     --------                              61.4/283.7 kB 328.2 kB/s eta 0:00:01\n",
      "     --------                              61.4/283.7 kB 328.2 kB/s eta 0:00:01\n",
      "     ---------                             71.7/283.7 kB 280.5 kB/s eta 0:00:01\n",
      "     --------------                       112.6/283.7 kB 344.8 kB/s eta 0:00:01\n",
      "     --------------                       112.6/283.7 kB 344.8 kB/s eta 0:00:01\n",
      "     ---------------                      122.9/283.7 kB 327.4 kB/s eta 0:00:01\n",
      "     ------------------                   143.4/283.7 kB 327.9 kB/s eta 0:00:01\n",
      "     -------------------                  153.6/283.7 kB 327.3 kB/s eta 0:00:01\n",
      "     ----------------------               174.1/283.7 kB 317.5 kB/s eta 0:00:01\n",
      "     ------------------------             194.6/283.7 kB 337.0 kB/s eta 0:00:01\n",
      "     -------------------------            204.8/283.7 kB 318.9 kB/s eta 0:00:01\n",
      "     ----------------------------         225.3/283.7 kB 327.8 kB/s eta 0:00:01\n",
      "     -----------------------------        235.5/283.7 kB 313.3 kB/s eta 0:00:01\n",
      "     --------------------------------     256.0/283.7 kB 334.4 kB/s eta 0:00:01\n",
      "     -----------------------------------  276.5/283.7 kB 340.9 kB/s eta 0:00:01\n",
      "     ------------------------------------ 283.7/283.7 kB 336.3 kB/s eta 0:00:00\n",
      "Installing collected packages: dnspython, pymongo\n",
      "Successfully installed dnspython-2.3.0 pymongo-4.4.0\n"
     ]
    },
    {
     "name": "stderr",
     "output_type": "stream",
     "text": [
      "\n",
      "[notice] A new release of pip is available: 23.1 -> 23.1.2\n",
      "[notice] To update, run: python.exe -m pip install --upgrade pip\n"
     ]
    }
   ],
   "source": [
    "pip install pymongo"
   ]
  },
  {
   "cell_type": "code",
   "execution_count": 2,
   "metadata": {},
   "outputs": [],
   "source": [
    "import pymongo"
   ]
  },
  {
   "cell_type": "code",
   "execution_count": 3,
   "metadata": {},
   "outputs": [],
   "source": [
    "from pymongo import MongoClient"
   ]
  },
  {
   "cell_type": "code",
   "execution_count": 4,
   "metadata": {},
   "outputs": [],
   "source": [
    "client=MongoClient('127.0.0.1',27017)"
   ]
  },
  {
   "cell_type": "code",
   "execution_count": 5,
   "metadata": {},
   "outputs": [],
   "source": [
    "#client=MongoClient('mongodb://localhost:27017')--->tambien podemos establecer client.vehiculos1"
   ]
  },
  {
   "cell_type": "code",
   "execution_count": 6,
   "metadata": {},
   "outputs": [],
   "source": [
    "mydatabse=client['vehiculos1']"
   ]
  },
  {
   "cell_type": "code",
   "execution_count": null,
   "metadata": {},
   "outputs": [],
   "source": [
    "mycollection=mydatabse.vehiculos1#tambien podemos poner mydatabase[vehiculos1]"
   ]
  }
 ],
 "metadata": {
  "kernelspec": {
   "display_name": "Python 3",
   "language": "python",
   "name": "python3"
  },
  "language_info": {
   "codemirror_mode": {
    "name": "ipython",
    "version": 3
   },
   "file_extension": ".py",
   "mimetype": "text/x-python",
   "name": "python",
   "nbconvert_exporter": "python",
   "pygments_lexer": "ipython3",
   "version": "3.11.3"
  },
  "orig_nbformat": 4
 },
 "nbformat": 4,
 "nbformat_minor": 2
}
